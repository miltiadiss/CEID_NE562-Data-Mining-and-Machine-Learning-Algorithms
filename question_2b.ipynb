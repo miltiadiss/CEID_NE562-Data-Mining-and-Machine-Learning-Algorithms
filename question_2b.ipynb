{
  "nbformat": 4,
  "nbformat_minor": 0,
  "metadata": {
    "colab": {
      "provenance": [],
      "authorship_tag": "ABX9TyPIA7xdSkNZvfNvdyPZTSFB",
      "include_colab_link": true
    },
    "kernelspec": {
      "name": "python3",
      "display_name": "Python 3"
    },
    "language_info": {
      "name": "python"
    }
  },
  "cells": [
    {
      "cell_type": "markdown",
      "metadata": {
        "id": "view-in-github",
        "colab_type": "text"
      },
      "source": [
        "<a href=\"https://colab.research.google.com/github/miltiadiss/Data-Mining/blob/main/question_2b.ipynb\" target=\"_parent\"><img src=\"https://colab.research.google.com/assets/colab-badge.svg\" alt=\"Open In Colab\"/></a>"
      ]
    },
    {
      "cell_type": "markdown",
      "source": [
        "**2.3 Bayesian Network**"
      ],
      "metadata": {
        "id": "tImURVUuNT_g"
      }
    },
    {
      "cell_type": "code",
      "execution_count": null,
      "metadata": {
        "id": "BgkhaSdFNPmz"
      },
      "outputs": [],
      "source": [
        "from pgmpy.models import BayesianNetwork\n",
        "from pgmpy.estimators import MaximumLikelihoodEstimator, HillClimbSearch, BicScore\n",
        "from pgmpy.inference import VariableElimination\n",
        "from sklearn.preprocessing import KBinsDiscretizer\n",
        "\n",
        "def discretize_columns(df, bins):\n",
        "    cols_to_discretize = [col for col in df.columns if col not in ['timestamp', 'label']]\n",
        "    discretizer = KBinsDiscretizer(n_bins=bins, encode='ordinal', strategy='uniform')\n",
        "    df[cols_to_discretize] = discretizer.fit_transform(df[cols_to_discretize])\n",
        "    return df\n",
        "\n",
        "# Λίστες για την αποθήκευση των μετρικών από κάθε αρχείο\n",
        "bn_accuracies = []  # Ακρίβεια για κάθε αρχείο\n",
        "bn_precisions = []  # Precision για κάθε αρχείο\n",
        "bn_recalls = []     # Recall για κάθε αρχείο\n",
        "bn_f1_scores = []   # F1-score για κάθε αρχείο\n",
        "\n",
        "# Επανάληψη μέσω των αρχείων στο φάκελο\n",
        "for filename in os.listdir(path):\n",
        "    if filename.endswith(\".csv\"):\n",
        "        # Φόρτωση του CSV αρχείου\n",
        "        df = pd.read_csv(os.path.join(path, filename))\n",
        "\n",
        "        # Δημιουργία των καθυστερήσεων\n",
        "        df = create_lags(df, 10)\n",
        "\n",
        "        # Διακριτοποίηση των χαρακτηριστικών\n",
        "        df = discretize_columns(df, bins=3)\n",
        "\n",
        "        # Διαίρεση σε train και test σύνολα\n",
        "        train_size = int(0.8 * len(df))\n",
        "        train_df = df.iloc[:train_size]\n",
        "        test_df = df.iloc[train_size:]\n",
        "\n",
        "        X_train = train_df.drop(['timestamp', 'label'], axis=1)\n",
        "        y_train = train_df['label']\n",
        "        X_test = test_df.drop(['timestamp', 'label'], axis=1)\n",
        "        y_test = test_df['label']\n",
        "\n",
        "        # Συνδυασμός X_train και y_train για δημιουργία DataFrame για εκπαίδευση του Bayesian Network\n",
        "        train_df = pd.concat([X_train, y_train], axis=1)\n",
        "\n",
        "        # Δημιουργία δομής του Bayesian Network με χρήση του αλγορίθμου HillClimbSearch και της μετρικής BIC\n",
        "        hc = HillClimbSearch(train_df)\n",
        "        best_model = hc.estimate(scoring_method=BicScore(train_df))\n",
        "\n",
        "        # Δημιουργία του μοντέλου Bayesian Network με βάση τις βέλτιστες συνδέσεις που προέκυψαν από τον αλγόριθμο HillClimbSearch\n",
        "        model = BayesianNetwork(best_model.edges())\n",
        "        model.fit(train_df, estimator=MaximumLikelihoodEstimator)\n",
        "\n",
        "        # Απόδοση του μοντέλου\n",
        "        infer = VariableElimination(model)\n",
        "        y_pred = []\n",
        "\n",
        "        for _, row in X_test.iterrows():\n",
        "            evidence = row.to_dict()\n",
        "            query_result = infer.map_query(variables=['label'], evidence=evidence)\n",
        "            y_pred.append(query_result['label'])\n",
        "\n",
        "        # Υπολογίζουμε τις μετρικες και τις προσθέτουμε στις λίστες\n",
        "        accuracy = accuracy_score(y_test, y_pred)\n",
        "        bn_accuracies.append(accuracy)\n",
        "        precision = precision_score(y_test, y_pred)\n",
        "        bn_precisions.append(precision)\n",
        "        recall = recall_score(y_test, y_pred)\n",
        "        bn_recalls.append(recall)\n",
        "        f1 = f1_score(y_test, y_pred)\n",
        "        bn_f1_scores.append(f1)\n",
        "\n",
        "        # Εκτύπωση των μετρικών για κάθε συμμετέχοντα\n",
        "        base_name = os.path.splitext(filename)[0]  # Χωρίς κατάληξη\n",
        "        print(f\"Metrics for Participant {base_name}:\")\n",
        "        print(f\"  Accuracy: {accuracy}\")\n",
        "        print(f\"  Precision: {precision}\")\n",
        "        print(f\"  Recall: {recall}\")\n",
        "        print(f\"  F1-Score: {f1}\")\n",
        "\n",
        "        # Υπολογισμός και εμφάνιση του confusion matrix\n",
        "        unique_labels = sorted(df['label'].unique())\n",
        "        cm = confusion_matrix(y_test, y_pred, labels=unique_labels)\n",
        "        plt.figure(figsize=(10, 7))\n",
        "        sns.heatmap(cm, annot=True, fmt='d', cmap='Blues', xticklabels=unique_labels, yticklabels=unique_labels)\n",
        "        plt.title(f'Confusion Matrix for Participant {base_name}')\n",
        "        plt.xlabel('Predicted Labels')\n",
        "        plt.ylabel('True Labels')\n",
        "        plt.show()\n",
        "\n",
        "# Υπολογισμός της μέσης τιμής για κάθε μετρική από όλους τους συμμετέχοντες\n",
        "bn_mean_accuracy = np.mean(bn_accuracies)\n",
        "bn_mean_precision = np.mean(bn_precisions)\n",
        "bn_mean_recall = np.mean(bn_recalls)\n",
        "bn_mean_f1 = np.mean(bn_f1_scores)\n",
        "\n",
        "print(\"Mean Metrics of All Participants:\")\n",
        "print(f\"  Mean Accuracy: {bn_mean_accuracy}\")\n",
        "print(f\"  Mean Precision: {bn_mean_precision}\")\n",
        "print(f\"  Mean Recall: {bn_mean_recall}\")\n",
        "print(f\"  Mean F1-Score: {bn_mean_f1}\")"
      ]
    },
    {
      "cell_type": "markdown",
      "source": [
        "**2.4 Σύγκριση Ταξινομητών**"
      ],
      "metadata": {
        "id": "r2WCU5YnNaNo"
      }
    },
    {
      "cell_type": "code",
      "source": [
        "# Λίστα με τα ονόματα των συμμετεχόντων\n",
        "participants = [os.path.splitext(filename)[0] for filename in os.listdir(path) if filename.endswith(\".csv\")]\n",
        "\n",
        "# Δημιουργία DataFrame για να συγκρίνουμε τις ακριβείες των δύο μοντέλων\n",
        "accuracy_df = pd.DataFrame({\n",
        "    'Participant': participants,\n",
        "    'Random Forest Accuracy': rf_accuracies,\n",
        "    'Neural Network Accuracy': ann_accuracies,\n",
        "    'Bayesian Network Accuracy': bn_accuracies\n",
        "})\n",
        "\n",
        "# Σχεδιασμός του γραφήματος\n",
        "plt.figure(figsize=(15, 8))\n",
        "bar_width = 0.25\n",
        "index = np.arange(len(participants))\n",
        "\n",
        "# Μπάρες για τις ακρίβειες του Random Forest\n",
        "plt.bar(index, accuracy_df['Random Forest Accuracy'][accuracy_df['Participant'] != 'S015'], bar_width, label='Random Forest')\n",
        "\n",
        "# Μπάρες για τις ακρίβειες του ANN\n",
        "plt.bar(index + bar_width, accuracy_df['Neural Network Accuracy'][accuracy_df['Participant'] != 'S015'], bar_width, label='ANN')\n",
        "\n",
        "# Μπάρες για τις ακρίβειες του Bayesian Network\n",
        "plt.bar(index + 2 * bar_width, accuracy_df['Bayesian Network Accuracy'][accuracy_df['Participant'] != 'S015'], bar_width, label='Bayesian Network')\n",
        "\n",
        "# Προσθήκη ετικετών και τίτλων\n",
        "plt.xlabel('Participant')\n",
        "plt.ylabel('Accuracy')\n",
        "plt.title('Classifier Accuracy for Each Participant')\n",
        "plt.xticks(index[accuracy_df['Participant'] != 'S015'] + 1.5 * bar_width, accuracy_df['Participant'][accuracy_df['Participant'] != 'S015'], rotation=45)\n",
        "plt.legend()\n",
        "\n",
        "# Εμφάνιση του γραφήματος\n",
        "plt.tight_layout()\n",
        "plt.show()"
      ],
      "metadata": {
        "id": "zFQ-euzoNan4"
      },
      "execution_count": null,
      "outputs": []
    }
  ]
}